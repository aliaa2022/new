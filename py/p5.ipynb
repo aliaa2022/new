{
 "cells": [
  {
   "cell_type": "code",
   "execution_count": null,
   "id": "10a411cd",
   "metadata": {},
   "outputs": [],
   "source": [
    "list1=['ten','twenty','thirty']\n",
    "list2=[10,20,30]\n",
    "for"
   ]
  },
  {
   "cell_type": "code",
   "execution_count": 5,
   "id": "9053ebc5",
   "metadata": {},
   "outputs": [
    {
     "name": "stdout",
     "output_type": "stream",
     "text": [
      "{'ten': 10, 'twenty': 20, 'thirty': 30}\n"
     ]
    }
   ],
   "source": [
    "keys = ('ten', 'twenty', 'thirty')\n",
    "values = (10, 20, 30)    \n",
    "dict = {keys[i]: values[i] for i in range(len(keys))}\n",
    "print(dict)"
   ]
  },
  {
   "cell_type": "code",
   "execution_count": 8,
   "id": "25f86544",
   "metadata": {},
   "outputs": [
    {
     "name": "stdout",
     "output_type": "stream",
     "text": [
      "{'ten': 10}\n",
      "{'twenty': 20}\n",
      "{'thirty': 30}\n"
     ]
    }
   ],
   "source": [
    "keys = ('ten', 'twenty', 'thirty')\n",
    "values = (10, 20, 30) \n",
    "for i in range(len(keys)):\n",
    "    dict = {keys[i]: values[i] }\n",
    "print(dict)"
   ]
  },
  {
   "cell_type": "code",
   "execution_count": null,
   "id": "11129709",
   "metadata": {},
   "outputs": [],
   "source": []
  }
 ],
 "metadata": {
  "kernelspec": {
   "display_name": "Python 3 (ipykernel)",
   "language": "python",
   "name": "python3"
  },
  "language_info": {
   "codemirror_mode": {
    "name": "ipython",
    "version": 3
   },
   "file_extension": ".py",
   "mimetype": "text/x-python",
   "name": "python",
   "nbconvert_exporter": "python",
   "pygments_lexer": "ipython3",
   "version": "3.9.12"
  }
 },
 "nbformat": 4,
 "nbformat_minor": 5
}
